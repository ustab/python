{
  "nbformat": 4,
  "nbformat_minor": 0,
  "metadata": {
    "colab": {
      "name": "Untitled118.ipynb",
      "provenance": [],
      "authorship_tag": "ABX9TyPSVyrx/pdz4P7AgM8l6sbu",
      "include_colab_link": true
    },
    "kernelspec": {
      "name": "python3",
      "display_name": "Python 3"
    },
    "language_info": {
      "name": "python"
    }
  },
  "cells": [
    {
      "cell_type": "markdown",
      "metadata": {
        "id": "view-in-github",
        "colab_type": "text"
      },
      "source": [
        "<a href=\"https://colab.research.google.com/github/ustab/python/blob/master/Untitled118.ipynb\" target=\"_parent\"><img src=\"https://colab.research.google.com/assets/colab-badge.svg\" alt=\"Open In Colab\"/></a>"
      ]
    },
    {
      "cell_type": "code",
      "execution_count": 11,
      "metadata": {
        "id": "RecQyr0i3JWM"
      },
      "outputs": [],
      "source": [
        "isim=[\"hasan\",\"burhan\",\"kevser\"]\n",
        "yas=[\"34\",\"58\",\"57\"]\n",
        "meslek=[\"doctor\",\"muhendis\",\"ogretmen\"]\n",
        "dosya=open(\"tablo.csv\", \"a\", encoding=\"UTF-8\")\n",
        "for i in range(3):\n",
        " dosya.write(isim[i]+ \" ;\"+ yas[i]+ \"; \"+ meslek[i]+ \"\\n\")"
      ]
    },
    {
      "cell_type": "code",
      "source": [
        "ogrencinotlari=[\"80\",\"70\",\"50\",\"84\",\"54\",\"92\",\"48\",\"53\"]\n",
        "ogrenciler=[\"mert\",\"ela\",\"tolga\",\"umit\",\"Aybuke\",\"zehra\",\"kerem\",\"aziz\"]\n",
        "\n",
        "dosya=open(\"ogrenci.csv\", \"a\",encoding=\"UTF-8\")\n",
        "for i in range(8):\n",
        "    dosya.write(ogrencinotlari[i]+ \"  \" + ogrenciler[i]+\"  \"+\"\\n\")\n",
        "dosya.close()"
      ],
      "metadata": {
        "id": "f-F3VqT09zCD"
      },
      "execution_count": 10,
      "outputs": []
    }
  ]
}